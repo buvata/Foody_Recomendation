{
 "cells": [
  {
   "cell_type": "code",
   "execution_count": 1,
   "metadata": {},
   "outputs": [
    {
     "name": "stderr",
     "output_type": "stream",
     "text": [
      "Using TensorFlow backend.\n"
     ]
    }
   ],
   "source": [
    "import pandas as pd\n",
    "import numpy as np\n",
    "import tensorflow\n",
    "\n",
    "import keras\n",
    "from keras.preprocessing.text import one_hot\n",
    "from keras.preprocessing.sequence import pad_sequences\n",
    "from keras.models import *\n",
    "from keras.layers import *\n",
    "from keras.layers.embeddings import Embedding\n",
    "from keras import optimizers\n",
    "from keras.optimizers import *\n",
    "\n",
    "import matplotlib.pyplot as plt\n",
    "from sklearn.metrics import confusion_matrix\n",
    "from sklearn.model_selection import train_test_split"
   ]
  },
  {
   "cell_type": "code",
   "execution_count": 2,
   "metadata": {},
   "outputs": [],
   "source": [
    "data = pd.read_pickle('./foody_data.pkl')"
   ]
  },
  {
   "cell_type": "code",
   "execution_count": 3,
   "metadata": {},
   "outputs": [],
   "source": [
    "data=pd.DataFrame(data)"
   ]
  },
  {
   "cell_type": "code",
   "execution_count": 4,
   "metadata": {},
   "outputs": [
    {
     "data": {
      "text/html": [
       "<div>\n",
       "<style scoped>\n",
       "    .dataframe tbody tr th:only-of-type {\n",
       "        vertical-align: middle;\n",
       "    }\n",
       "\n",
       "    .dataframe tbody tr th {\n",
       "        vertical-align: top;\n",
       "    }\n",
       "\n",
       "    .dataframe thead th {\n",
       "        text-align: right;\n",
       "    }\n",
       "</style>\n",
       "<table border=\"1\" class=\"dataframe\">\n",
       "  <thead>\n",
       "    <tr style=\"text-align: right;\">\n",
       "      <th></th>\n",
       "      <th>time</th>\n",
       "      <th>user_name</th>\n",
       "      <th>user_link</th>\n",
       "      <th>brand_name</th>\n",
       "      <th>brand_link</th>\n",
       "      <th>review_content</th>\n",
       "      <th>review_link</th>\n",
       "      <th>avg_score</th>\n",
       "      <th>location_point</th>\n",
       "      <th>space_point</th>\n",
       "      <th>quality_point</th>\n",
       "      <th>service_point</th>\n",
       "      <th>price_point</th>\n",
       "    </tr>\n",
       "  </thead>\n",
       "  <tbody>\n",
       "    <tr>\n",
       "      <th>0</th>\n",
       "      <td>14/9/2017 11:45</td>\n",
       "      <td>Sunny</td>\n",
       "      <td>https://www.foody.vn/thanh-vien/taiyo</td>\n",
       "      <td>El Sol - Meat &amp; Wine - Võ Thị Sáu</td>\n",
       "      <td>https://www.foody.vn/ho-chi-minh/el-sol-meat-w...</td>\n",
       "      <td>Quán steak hiếm hoi mà mình cực kì ưng ý từ lâ...</td>\n",
       "      <td>https://www.foody.vn/ho-chi-minh/el-sol-meat-w...</td>\n",
       "      <td>8.6</td>\n",
       "      <td>7.0</td>\n",
       "      <td>10</td>\n",
       "      <td>9</td>\n",
       "      <td>9</td>\n",
       "      <td>8.0</td>\n",
       "    </tr>\n",
       "    <tr>\n",
       "      <th>1</th>\n",
       "      <td>14/9/2017 11:39</td>\n",
       "      <td>Nguyên Khánh</td>\n",
       "      <td>https://www.foody.vn/thanh-vien/viola_0309_tv</td>\n",
       "      <td>Busan Korean Food - Món Hàn Quốc - Đinh Tiên H...</td>\n",
       "      <td>https://www.foody.vn/ho-chi-minh/busan-korean-...</td>\n",
       "      <td>Vị trí dễ tìm. Giữ xe rất nhiệt tình. Dắt xe v...</td>\n",
       "      <td>https://www.foody.vn/ho-chi-minh/busan-korean-...</td>\n",
       "      <td>7.4</td>\n",
       "      <td>8.0</td>\n",
       "      <td>8</td>\n",
       "      <td>6</td>\n",
       "      <td>7</td>\n",
       "      <td>8.0</td>\n",
       "    </tr>\n",
       "    <tr>\n",
       "      <th>2</th>\n",
       "      <td>14/9/2017 11:34</td>\n",
       "      <td>Tú Hảo</td>\n",
       "      <td>https://www.foody.vn/thanh-vien/tuhao2509</td>\n",
       "      <td>TocoToco Bubble Tea - Cộng Hòa</td>\n",
       "      <td>https://www.foody.vn/ho-chi-minh/tocotoco-bubb...</td>\n",
       "      <td>Địa điểm quán dễ tìm. Không gian cũng rộng, có...</td>\n",
       "      <td>https://www.foody.vn/ho-chi-minh/tocotoco-bubb...</td>\n",
       "      <td>6.4</td>\n",
       "      <td>7.0</td>\n",
       "      <td>8</td>\n",
       "      <td>7</td>\n",
       "      <td>7</td>\n",
       "      <td>3.0</td>\n",
       "    </tr>\n",
       "    <tr>\n",
       "      <th>3</th>\n",
       "      <td>14/9/2017 11:29</td>\n",
       "      <td>Vy Nhật</td>\n",
       "      <td>https://www.foody.vn/thanh-vien/zip_zilip</td>\n",
       "      <td>Le Castella Viet Nam - Bánh Bông Lan Đài Loan ...</td>\n",
       "      <td>https://www.foody.vn/ho-chi-minh/le-castella-v...</td>\n",
       "      <td>Thấy bánh này đang hot rần rần mình cũng gọi t...</td>\n",
       "      <td>https://www.foody.vn/ho-chi-minh/le-castella-v...</td>\n",
       "      <td>7.2</td>\n",
       "      <td>7.0</td>\n",
       "      <td>6</td>\n",
       "      <td>9</td>\n",
       "      <td>6</td>\n",
       "      <td>8.0</td>\n",
       "    </tr>\n",
       "    <tr>\n",
       "      <th>4</th>\n",
       "      <td>14/9/2017 11:26</td>\n",
       "      <td>Tien97</td>\n",
       "      <td>https://www.foody.vn/thanh-vien/tien97</td>\n",
       "      <td>Tabletop - Boardgame &amp; Coffee</td>\n",
       "      <td>https://www.foody.vn/ho-chi-minh/tabletop-boar...</td>\n",
       "      <td>Mỗi lần nghĩ tới boardgame thì sẽ nghĩ tới vô ...</td>\n",
       "      <td>https://www.foody.vn/ho-chi-minh/tabletop-boar...</td>\n",
       "      <td>10.0</td>\n",
       "      <td>10.0</td>\n",
       "      <td>10</td>\n",
       "      <td>10</td>\n",
       "      <td>10</td>\n",
       "      <td>10.0</td>\n",
       "    </tr>\n",
       "  </tbody>\n",
       "</table>\n",
       "</div>"
      ],
      "text/plain": [
       "              time     user_name  \\\n",
       "0  14/9/2017 11:45         Sunny   \n",
       "1  14/9/2017 11:39  Nguyên Khánh   \n",
       "2  14/9/2017 11:34        Tú Hảo   \n",
       "3  14/9/2017 11:29       Vy Nhật   \n",
       "4  14/9/2017 11:26        Tien97   \n",
       "\n",
       "                                       user_link  \\\n",
       "0          https://www.foody.vn/thanh-vien/taiyo   \n",
       "1  https://www.foody.vn/thanh-vien/viola_0309_tv   \n",
       "2      https://www.foody.vn/thanh-vien/tuhao2509   \n",
       "3      https://www.foody.vn/thanh-vien/zip_zilip   \n",
       "4         https://www.foody.vn/thanh-vien/tien97   \n",
       "\n",
       "                                          brand_name  \\\n",
       "0                  El Sol - Meat & Wine - Võ Thị Sáu   \n",
       "1  Busan Korean Food - Món Hàn Quốc - Đinh Tiên H...   \n",
       "2                     TocoToco Bubble Tea - Cộng Hòa   \n",
       "3  Le Castella Viet Nam - Bánh Bông Lan Đài Loan ...   \n",
       "4                      Tabletop - Boardgame & Coffee   \n",
       "\n",
       "                                          brand_link  \\\n",
       "0  https://www.foody.vn/ho-chi-minh/el-sol-meat-w...   \n",
       "1  https://www.foody.vn/ho-chi-minh/busan-korean-...   \n",
       "2  https://www.foody.vn/ho-chi-minh/tocotoco-bubb...   \n",
       "3  https://www.foody.vn/ho-chi-minh/le-castella-v...   \n",
       "4  https://www.foody.vn/ho-chi-minh/tabletop-boar...   \n",
       "\n",
       "                                      review_content  \\\n",
       "0  Quán steak hiếm hoi mà mình cực kì ưng ý từ lâ...   \n",
       "1  Vị trí dễ tìm. Giữ xe rất nhiệt tình. Dắt xe v...   \n",
       "2  Địa điểm quán dễ tìm. Không gian cũng rộng, có...   \n",
       "3  Thấy bánh này đang hot rần rần mình cũng gọi t...   \n",
       "4  Mỗi lần nghĩ tới boardgame thì sẽ nghĩ tới vô ...   \n",
       "\n",
       "                                         review_link  avg_score  \\\n",
       "0  https://www.foody.vn/ho-chi-minh/el-sol-meat-w...        8.6   \n",
       "1  https://www.foody.vn/ho-chi-minh/busan-korean-...        7.4   \n",
       "2  https://www.foody.vn/ho-chi-minh/tocotoco-bubb...        6.4   \n",
       "3  https://www.foody.vn/ho-chi-minh/le-castella-v...        7.2   \n",
       "4  https://www.foody.vn/ho-chi-minh/tabletop-boar...       10.0   \n",
       "\n",
       "   location_point  space_point  quality_point  service_point  price_point  \n",
       "0             7.0           10              9              9          8.0  \n",
       "1             8.0            8              6              7          8.0  \n",
       "2             7.0            8              7              7          3.0  \n",
       "3             7.0            6              9              6          8.0  \n",
       "4            10.0           10             10             10         10.0  "
      ]
     },
     "execution_count": 4,
     "metadata": {},
     "output_type": "execute_result"
    }
   ],
   "source": [
    "data.head()"
   ]
  },
  {
   "cell_type": "code",
   "execution_count": 5,
   "metadata": {},
   "outputs": [],
   "source": [
    "data_review=pd.DataFrame(data[\"review_content\"])\n",
    "score=data[\"avg_score\"]"
   ]
  },
  {
   "cell_type": "code",
   "execution_count": 6,
   "metadata": {},
   "outputs": [
    {
     "data": {
      "text/plain": [
       "0          8.6\n",
       "1          7.4\n",
       "2          6.4\n",
       "3          7.2\n",
       "4         10.0\n",
       "5          7.2\n",
       "6          8.0\n",
       "7          8.2\n",
       "8          8.8\n",
       "9          8.4\n",
       "10         9.0\n",
       "11         6.0\n",
       "12         7.0\n",
       "13        10.0\n",
       "14         7.0\n",
       "15         6.4\n",
       "16         8.6\n",
       "17         8.8\n",
       "18         5.0\n",
       "19         8.0\n",
       "20         6.0\n",
       "21         9.0\n",
       "22         7.8\n",
       "23         9.4\n",
       "24         9.2\n",
       "25         7.6\n",
       "26         8.8\n",
       "27         1.4\n",
       "28         6.4\n",
       "29         1.6\n",
       "          ... \n",
       "204359     7.6\n",
       "204360     7.2\n",
       "204361     7.0\n",
       "204362     7.4\n",
       "204363     7.0\n",
       "204364     7.6\n",
       "204365     8.8\n",
       "204366     8.2\n",
       "204367     7.4\n",
       "204368     6.6\n",
       "204369     3.8\n",
       "204370     9.0\n",
       "204371     6.6\n",
       "204372     7.6\n",
       "204373     6.4\n",
       "204374     4.8\n",
       "204375     8.2\n",
       "204376     7.6\n",
       "204377     7.0\n",
       "204378     7.4\n",
       "204379     4.0\n",
       "204380     8.8\n",
       "204381     7.8\n",
       "204382     7.4\n",
       "204383     7.4\n",
       "204384     7.2\n",
       "204385     7.4\n",
       "204386     8.4\n",
       "204387     8.4\n",
       "204388     8.4\n",
       "Name: avg_score, Length: 174437, dtype: float64"
      ]
     },
     "execution_count": 6,
     "metadata": {},
     "output_type": "execute_result"
    }
   ],
   "source": [
    "score"
   ]
  },
  {
   "cell_type": "code",
   "execution_count": 7,
   "metadata": {},
   "outputs": [
    {
     "data": {
      "text/html": [
       "<div>\n",
       "<style scoped>\n",
       "    .dataframe tbody tr th:only-of-type {\n",
       "        vertical-align: middle;\n",
       "    }\n",
       "\n",
       "    .dataframe tbody tr th {\n",
       "        vertical-align: top;\n",
       "    }\n",
       "\n",
       "    .dataframe thead th {\n",
       "        text-align: right;\n",
       "    }\n",
       "</style>\n",
       "<table border=\"1\" class=\"dataframe\">\n",
       "  <thead>\n",
       "    <tr style=\"text-align: right;\">\n",
       "      <th></th>\n",
       "      <th>review_content</th>\n",
       "      <th>score</th>\n",
       "    </tr>\n",
       "  </thead>\n",
       "  <tbody>\n",
       "    <tr>\n",
       "      <th>0</th>\n",
       "      <td>Quán steak hiếm hoi mà mình cực kì ưng ý từ lâ...</td>\n",
       "      <td>8.6</td>\n",
       "    </tr>\n",
       "    <tr>\n",
       "      <th>1</th>\n",
       "      <td>Vị trí dễ tìm. Giữ xe rất nhiệt tình. Dắt xe v...</td>\n",
       "      <td>7.4</td>\n",
       "    </tr>\n",
       "    <tr>\n",
       "      <th>2</th>\n",
       "      <td>Địa điểm quán dễ tìm. Không gian cũng rộng, có...</td>\n",
       "      <td>6.4</td>\n",
       "    </tr>\n",
       "    <tr>\n",
       "      <th>3</th>\n",
       "      <td>Thấy bánh này đang hot rần rần mình cũng gọi t...</td>\n",
       "      <td>7.2</td>\n",
       "    </tr>\n",
       "    <tr>\n",
       "      <th>4</th>\n",
       "      <td>Mỗi lần nghĩ tới boardgame thì sẽ nghĩ tới vô ...</td>\n",
       "      <td>10.0</td>\n",
       "    </tr>\n",
       "  </tbody>\n",
       "</table>\n",
       "</div>"
      ],
      "text/plain": [
       "                                      review_content  score\n",
       "0  Quán steak hiếm hoi mà mình cực kì ưng ý từ lâ...    8.6\n",
       "1  Vị trí dễ tìm. Giữ xe rất nhiệt tình. Dắt xe v...    7.4\n",
       "2  Địa điểm quán dễ tìm. Không gian cũng rộng, có...    6.4\n",
       "3  Thấy bánh này đang hot rần rần mình cũng gọi t...    7.2\n",
       "4  Mỗi lần nghĩ tới boardgame thì sẽ nghĩ tới vô ...   10.0"
      ]
     },
     "execution_count": 7,
     "metadata": {},
     "output_type": "execute_result"
    }
   ],
   "source": [
    "data_review.insert(1,\"score\",score)\n",
    "data_review.head()"
   ]
  },
  {
   "cell_type": "code",
   "execution_count": 8,
   "metadata": {},
   "outputs": [],
   "source": [
    "import re\n",
    "import string\n",
    "punc = string.punctuation\n",
    "def str_clean(s):\n",
    "    s1 =  \" \".join(re.findall(\"[0-9a-zaáàảãạâấầẩẫậăắằẳẵặeéèẻẽẹêếềểễệiíìỉĩịoóòỏõọôốồổỗộơớờởỡợuúùủũụưứừửữựyýỳỷỹỵđ]+\", s.lower()))\n",
    "    return(s1)"
   ]
  },
  {
   "cell_type": "code",
   "execution_count": 9,
   "metadata": {},
   "outputs": [],
   "source": [
    "reviews = data_review[['review_content', 'score']]\n",
    "#Để cho đơn giản, giả định điểm số không nhỏ hơn 5 là tốt còn ngược lại là tệ\n",
    "reviews['score'] = reviews['score'].apply(lambda x: 1 if x >= 5 else 0)\n",
    "reviews['review_content'] = reviews['review_content'].apply(lambda x: str_clean(x))\n",
    "#del data"
   ]
  },
  {
   "cell_type": "code",
   "execution_count": 10,
   "metadata": {},
   "outputs": [
    {
     "data": {
      "text/html": [
       "<div>\n",
       "<style scoped>\n",
       "    .dataframe tbody tr th:only-of-type {\n",
       "        vertical-align: middle;\n",
       "    }\n",
       "\n",
       "    .dataframe tbody tr th {\n",
       "        vertical-align: top;\n",
       "    }\n",
       "\n",
       "    .dataframe thead th {\n",
       "        text-align: right;\n",
       "    }\n",
       "</style>\n",
       "<table border=\"1\" class=\"dataframe\">\n",
       "  <thead>\n",
       "    <tr style=\"text-align: right;\">\n",
       "      <th></th>\n",
       "      <th>review_content</th>\n",
       "      <th>score</th>\n",
       "    </tr>\n",
       "  </thead>\n",
       "  <tbody>\n",
       "    <tr>\n",
       "      <th>0</th>\n",
       "      <td>quán steak hiếm hoi mà mình cực kì ưng ý từ lâ...</td>\n",
       "      <td>1</td>\n",
       "    </tr>\n",
       "    <tr>\n",
       "      <th>1</th>\n",
       "      <td>vị trí dễ tìm giữ xe rất nhiệt tình dắt xe vào...</td>\n",
       "      <td>1</td>\n",
       "    </tr>\n",
       "    <tr>\n",
       "      <th>2</th>\n",
       "      <td>địa điểm quán dễ tìm không gian cũng rộng có l...</td>\n",
       "      <td>1</td>\n",
       "    </tr>\n",
       "    <tr>\n",
       "      <th>3</th>\n",
       "      <td>thấy bánh này đang hot rần rần mình cũng gọi t...</td>\n",
       "      <td>1</td>\n",
       "    </tr>\n",
       "    <tr>\n",
       "      <th>4</th>\n",
       "      <td>mỗi lần nghĩ tới boardgame thì sẽ nghĩ tới vô ...</td>\n",
       "      <td>1</td>\n",
       "    </tr>\n",
       "  </tbody>\n",
       "</table>\n",
       "</div>"
      ],
      "text/plain": [
       "                                      review_content  score\n",
       "0  quán steak hiếm hoi mà mình cực kì ưng ý từ lâ...      1\n",
       "1  vị trí dễ tìm giữ xe rất nhiệt tình dắt xe vào...      1\n",
       "2  địa điểm quán dễ tìm không gian cũng rộng có l...      1\n",
       "3  thấy bánh này đang hot rần rần mình cũng gọi t...      1\n",
       "4  mỗi lần nghĩ tới boardgame thì sẽ nghĩ tới vô ...      1"
      ]
     },
     "execution_count": 10,
     "metadata": {},
     "output_type": "execute_result"
    }
   ],
   "source": [
    "reviews.head()"
   ]
  },
  {
   "cell_type": "code",
   "execution_count": 42,
   "metadata": {},
   "outputs": [],
   "source": [
    "# lấy một phần dữ liệu\n",
    "review_truncate = reviews['review_content'][0:30000]\n",
    "labels = reviews['score'][0:30000]"
   ]
  },
  {
   "cell_type": "code",
   "execution_count": null,
   "metadata": {},
   "outputs": [],
   "source": []
  },
  {
   "cell_type": "code",
   "execution_count": 43,
   "metadata": {},
   "outputs": [],
   "source": [
    "# corpus size\n",
    "a = set()\n",
    "for x in review_truncate:\n",
    "    a.update(x.split())\n",
    "\n",
    "# integer encode the documents\n",
    "vocab_size = len(a)\n",
    "encoded_docs = [one_hot(d, vocab_size) for d in review_truncate]"
   ]
  },
  {
   "cell_type": "code",
   "execution_count": 44,
   "metadata": {},
   "outputs": [
    {
     "data": {
      "text/plain": [
       "'thử cho biết chứ mình thấy mix tùm lum ăn không ngon được cái tàu hủ với nước dừa béo quán nhỏ thôi được 6 7cái bàn nhà mình đi 5 người mà xài hết 3 cái rồi ai đi đông nên cân nhắc nha vị trí dễ tìm cứ công viên thỏ trắng rồi thấy bánh sầu riêng durio là đi vô thôi'"
      ]
     },
     "execution_count": 44,
     "metadata": {},
     "output_type": "execute_result"
    }
   ],
   "source": [
    "#kết quả có được khi one hot encode\n",
    "review_truncate[11]"
   ]
  },
  {
   "cell_type": "code",
   "execution_count": 45,
   "metadata": {},
   "outputs": [
    {
     "name": "stdout",
     "output_type": "stream",
     "text": [
      "[4224, 11892, 18292, 8277, 2893, 436, 8438, 16131, 13991, 12778, 429, 10249, 4421, 92, 11442, 12424, 12906, 15965, 13324, 9308, 2810, 9887, 1347, 4421, 15808, 15102, 15785, 9959, 2893, 16789, 14551, 14123, 10650, 7956, 11953, 9244, 92, 12190, 9507, 16789, 4278, 16995, 16993, 3704, 17312, 13838, 5069, 17471, 8274, 3515, 12242, 7134, 2052, 7177, 12190, 436, 5983, 17888, 110, 3588, 8386, 16789, 16281, 1347]\n"
     ]
    }
   ],
   "source": [
    "print(encoded_docs[11])"
   ]
  },
  {
   "cell_type": "code",
   "execution_count": 48,
   "metadata": {},
   "outputs": [
    {
     "data": {
      "text/plain": [
       "array([ 3224,   436,  6850,  8386,  3135, 10129, 12166, 16427, 11573,\n",
       "        2893,  5854, 10684, 12778,   311, 12778, 13061,  8386,  9495,\n",
       "        6006, 12166,  2810,   297, 11953, 12190, 16427,  6259, 12166,\n",
       "        2404,  3224,   311, 12778, 13258,  6850, 12624,  4017, 18273,\n",
       "       12571, 10249,   429, 13853,  3323,  3752,  2810,  8567, 15681,\n",
       "       11249,  7536, 14725,  4084, 17471, 12778,  2187, 15011,  9495,\n",
       "        2893,   429, 10684,   800,   436,  9403, 14348,  8386,  9771,\n",
       "        1431, 12607,  9495,   429,   436, 13838,  9495, 14245, 12778,\n",
       "         429,  9439, 13178,  9454,  8386,   311, 12778, 12624,  4017,\n",
       "       13331, 15011,  9495,  5028,  7134,  9425, 16444, 16154,  1479,\n",
       "        1462,  4371, 12918,  3709,  3224, 12385,  4224,  1431,   311,\n",
       "        8567], dtype=int32)"
      ]
     },
     "execution_count": 48,
     "metadata": {},
     "output_type": "execute_result"
    }
   ],
   "source": [
    "max_length = 100 #chỉ lấy 100 phần tử đầu\n",
    "padded_docs = pad_sequences(encoded_docs, maxlen=max_length, padding='post')\n",
    "\n",
    "padded_docs[1]"
   ]
  },
  {
   "cell_type": "code",
   "execution_count": 49,
   "metadata": {},
   "outputs": [],
   "source": [
    "#train and test split\n",
    "x_train, x_test, y_train, y_test = train_test_split(padded_docs, labels, test_size=0.2, random_state=42)"
   ]
  },
  {
   "cell_type": "code",
   "execution_count": 93,
   "metadata": {},
   "outputs": [],
   "source": [
    "review_input = keras.layers.Input(shape=[100],name='input')\n",
    "review_embedding=keras.layers.Embedding(vocab_size , 16,input_length=max_length,name='Embedding')(review_input)\n",
    "review_vec = keras.layers.Flatten(name='Flatten')(review_embedding)\n",
    "\n",
    "dropout_1 = keras.layers.Dropout(0.2,name='Dropout-1')(review_vec)\n",
    "dense1 = keras.layers.Dense(50,name='dense1',activation='relu')(dropout_1)\n",
    "\n",
    "dropout_2=keras.layers.Dropout(0.2,name='Dropout-2')(dense1)\n",
    "dense2=keras.layers.Dense(1,name='dense2',activation='sigmoid')(dropout_2)\n",
    "#prod = keras.layers.merge.dot([movie_vec, user_vec],axes=-1,name='DotProduct')\n",
    "model = keras.Model(review_input,dense2)\n",
    "model.compile('adam', 'binary_crossentropy',metrics=['accuracy'])\n",
    "\n"
   ]
  },
  {
   "cell_type": "code",
   "execution_count": 94,
   "metadata": {},
   "outputs": [
    {
     "data": {
      "image/svg+xml": [
       "<svg height=\"553pt\" viewBox=\"0.00 0.00 317.00 553.00\" width=\"317pt\" xmlns=\"http://www.w3.org/2000/svg\" xmlns:xlink=\"http://www.w3.org/1999/xlink\">\n",
       "<g class=\"graph\" id=\"graph0\" transform=\"scale(1 1) rotate(0) translate(4 549)\">\n",
       "<title>G</title>\n",
       "<polygon fill=\"#ffffff\" points=\"-4,4 -4,-549 313,-549 313,4 -4,4\" stroke=\"transparent\"/>\n",
       "<!-- 140500161643016 -->\n",
       "<g class=\"node\" id=\"node1\">\n",
       "<title>140500161643016</title>\n",
       "<polygon fill=\"none\" points=\"29.5,-498.5 29.5,-544.5 279.5,-544.5 279.5,-498.5 29.5,-498.5\" stroke=\"#000000\"/>\n",
       "<text fill=\"#000000\" font-family=\"Times,serif\" font-size=\"14.00\" text-anchor=\"middle\" x=\"85.5\" y=\"-517.8\">input: InputLayer</text>\n",
       "<polyline fill=\"none\" points=\"141.5,-498.5 141.5,-544.5 \" stroke=\"#000000\"/>\n",
       "<text fill=\"#000000\" font-family=\"Times,serif\" font-size=\"14.00\" text-anchor=\"middle\" x=\"169\" y=\"-529.3\">input:</text>\n",
       "<polyline fill=\"none\" points=\"141.5,-521.5 196.5,-521.5 \" stroke=\"#000000\"/>\n",
       "<text fill=\"#000000\" font-family=\"Times,serif\" font-size=\"14.00\" text-anchor=\"middle\" x=\"169\" y=\"-506.3\">output:</text>\n",
       "<polyline fill=\"none\" points=\"196.5,-498.5 196.5,-544.5 \" stroke=\"#000000\"/>\n",
       "<text fill=\"#000000\" font-family=\"Times,serif\" font-size=\"14.00\" text-anchor=\"middle\" x=\"238\" y=\"-529.3\">(None, 100)</text>\n",
       "<polyline fill=\"none\" points=\"196.5,-521.5 279.5,-521.5 \" stroke=\"#000000\"/>\n",
       "<text fill=\"#000000\" font-family=\"Times,serif\" font-size=\"14.00\" text-anchor=\"middle\" x=\"238\" y=\"-506.3\">(None, 100)</text>\n",
       "</g>\n",
       "<!-- 140500161642736 -->\n",
       "<g class=\"node\" id=\"node2\">\n",
       "<title>140500161642736</title>\n",
       "<polygon fill=\"none\" points=\"0,-415.5 0,-461.5 309,-461.5 309,-415.5 0,-415.5\" stroke=\"#000000\"/>\n",
       "<text fill=\"#000000\" font-family=\"Times,serif\" font-size=\"14.00\" text-anchor=\"middle\" x=\"75\" y=\"-434.8\">Embedding: Embedding</text>\n",
       "<polyline fill=\"none\" points=\"150,-415.5 150,-461.5 \" stroke=\"#000000\"/>\n",
       "<text fill=\"#000000\" font-family=\"Times,serif\" font-size=\"14.00\" text-anchor=\"middle\" x=\"177.5\" y=\"-446.3\">input:</text>\n",
       "<polyline fill=\"none\" points=\"150,-438.5 205,-438.5 \" stroke=\"#000000\"/>\n",
       "<text fill=\"#000000\" font-family=\"Times,serif\" font-size=\"14.00\" text-anchor=\"middle\" x=\"177.5\" y=\"-423.3\">output:</text>\n",
       "<polyline fill=\"none\" points=\"205,-415.5 205,-461.5 \" stroke=\"#000000\"/>\n",
       "<text fill=\"#000000\" font-family=\"Times,serif\" font-size=\"14.00\" text-anchor=\"middle\" x=\"257\" y=\"-446.3\">(None, 100)</text>\n",
       "<polyline fill=\"none\" points=\"205,-438.5 309,-438.5 \" stroke=\"#000000\"/>\n",
       "<text fill=\"#000000\" font-family=\"Times,serif\" font-size=\"14.00\" text-anchor=\"middle\" x=\"257\" y=\"-423.3\">(None, 100, 16)</text>\n",
       "</g>\n",
       "<!-- 140500161643016&#45;&gt;140500161642736 -->\n",
       "<g class=\"edge\" id=\"edge1\">\n",
       "<title>140500161643016-&gt;140500161642736</title>\n",
       "<path d=\"M154.5,-498.3799C154.5,-490.1745 154.5,-480.7679 154.5,-471.8786\" fill=\"none\" stroke=\"#000000\"/>\n",
       "<polygon fill=\"#000000\" points=\"158.0001,-471.784 154.5,-461.784 151.0001,-471.784 158.0001,-471.784\" stroke=\"#000000\"/>\n",
       "</g>\n",
       "<!-- 140500161643184 -->\n",
       "<g class=\"node\" id=\"node3\">\n",
       "<title>140500161643184</title>\n",
       "<polygon fill=\"none\" points=\"25.5,-332.5 25.5,-378.5 283.5,-378.5 283.5,-332.5 25.5,-332.5\" stroke=\"#000000\"/>\n",
       "<text fill=\"#000000\" font-family=\"Times,serif\" font-size=\"14.00\" text-anchor=\"middle\" x=\"75\" y=\"-351.8\">Flatten: Flatten</text>\n",
       "<polyline fill=\"none\" points=\"124.5,-332.5 124.5,-378.5 \" stroke=\"#000000\"/>\n",
       "<text fill=\"#000000\" font-family=\"Times,serif\" font-size=\"14.00\" text-anchor=\"middle\" x=\"152\" y=\"-363.3\">input:</text>\n",
       "<polyline fill=\"none\" points=\"124.5,-355.5 179.5,-355.5 \" stroke=\"#000000\"/>\n",
       "<text fill=\"#000000\" font-family=\"Times,serif\" font-size=\"14.00\" text-anchor=\"middle\" x=\"152\" y=\"-340.3\">output:</text>\n",
       "<polyline fill=\"none\" points=\"179.5,-332.5 179.5,-378.5 \" stroke=\"#000000\"/>\n",
       "<text fill=\"#000000\" font-family=\"Times,serif\" font-size=\"14.00\" text-anchor=\"middle\" x=\"231.5\" y=\"-363.3\">(None, 100, 16)</text>\n",
       "<polyline fill=\"none\" points=\"179.5,-355.5 283.5,-355.5 \" stroke=\"#000000\"/>\n",
       "<text fill=\"#000000\" font-family=\"Times,serif\" font-size=\"14.00\" text-anchor=\"middle\" x=\"231.5\" y=\"-340.3\">(None, 1600)</text>\n",
       "</g>\n",
       "<!-- 140500161642736&#45;&gt;140500161643184 -->\n",
       "<g class=\"edge\" id=\"edge2\">\n",
       "<title>140500161642736-&gt;140500161643184</title>\n",
       "<path d=\"M154.5,-415.3799C154.5,-407.1745 154.5,-397.7679 154.5,-388.8786\" fill=\"none\" stroke=\"#000000\"/>\n",
       "<polygon fill=\"#000000\" points=\"158.0001,-388.784 154.5,-378.784 151.0001,-388.784 158.0001,-388.784\" stroke=\"#000000\"/>\n",
       "</g>\n",
       "<!-- 140500161646040 -->\n",
       "<g class=\"node\" id=\"node4\">\n",
       "<title>140500161646040</title>\n",
       "<polygon fill=\"none\" points=\"20,-249.5 20,-295.5 289,-295.5 289,-249.5 20,-249.5\" stroke=\"#000000\"/>\n",
       "<text fill=\"#000000\" font-family=\"Times,serif\" font-size=\"14.00\" text-anchor=\"middle\" x=\"82.5\" y=\"-268.8\">Dropout-1: Dropout</text>\n",
       "<polyline fill=\"none\" points=\"145,-249.5 145,-295.5 \" stroke=\"#000000\"/>\n",
       "<text fill=\"#000000\" font-family=\"Times,serif\" font-size=\"14.00\" text-anchor=\"middle\" x=\"172.5\" y=\"-280.3\">input:</text>\n",
       "<polyline fill=\"none\" points=\"145,-272.5 200,-272.5 \" stroke=\"#000000\"/>\n",
       "<text fill=\"#000000\" font-family=\"Times,serif\" font-size=\"14.00\" text-anchor=\"middle\" x=\"172.5\" y=\"-257.3\">output:</text>\n",
       "<polyline fill=\"none\" points=\"200,-249.5 200,-295.5 \" stroke=\"#000000\"/>\n",
       "<text fill=\"#000000\" font-family=\"Times,serif\" font-size=\"14.00\" text-anchor=\"middle\" x=\"244.5\" y=\"-280.3\">(None, 1600)</text>\n",
       "<polyline fill=\"none\" points=\"200,-272.5 289,-272.5 \" stroke=\"#000000\"/>\n",
       "<text fill=\"#000000\" font-family=\"Times,serif\" font-size=\"14.00\" text-anchor=\"middle\" x=\"244.5\" y=\"-257.3\">(None, 1600)</text>\n",
       "</g>\n",
       "<!-- 140500161643184&#45;&gt;140500161646040 -->\n",
       "<g class=\"edge\" id=\"edge3\">\n",
       "<title>140500161643184-&gt;140500161646040</title>\n",
       "<path d=\"M154.5,-332.3799C154.5,-324.1745 154.5,-314.7679 154.5,-305.8786\" fill=\"none\" stroke=\"#000000\"/>\n",
       "<polygon fill=\"#000000\" points=\"158.0001,-305.784 154.5,-295.784 151.0001,-305.784 158.0001,-305.784\" stroke=\"#000000\"/>\n",
       "</g>\n",
       "<!-- 140500161642680 -->\n",
       "<g class=\"node\" id=\"node5\">\n",
       "<title>140500161642680</title>\n",
       "<polygon fill=\"none\" points=\"35,-166.5 35,-212.5 274,-212.5 274,-166.5 35,-166.5\" stroke=\"#000000\"/>\n",
       "<text fill=\"#000000\" font-family=\"Times,serif\" font-size=\"14.00\" text-anchor=\"middle\" x=\"82.5\" y=\"-185.8\">dense1: Dense</text>\n",
       "<polyline fill=\"none\" points=\"130,-166.5 130,-212.5 \" stroke=\"#000000\"/>\n",
       "<text fill=\"#000000\" font-family=\"Times,serif\" font-size=\"14.00\" text-anchor=\"middle\" x=\"157.5\" y=\"-197.3\">input:</text>\n",
       "<polyline fill=\"none\" points=\"130,-189.5 185,-189.5 \" stroke=\"#000000\"/>\n",
       "<text fill=\"#000000\" font-family=\"Times,serif\" font-size=\"14.00\" text-anchor=\"middle\" x=\"157.5\" y=\"-174.3\">output:</text>\n",
       "<polyline fill=\"none\" points=\"185,-166.5 185,-212.5 \" stroke=\"#000000\"/>\n",
       "<text fill=\"#000000\" font-family=\"Times,serif\" font-size=\"14.00\" text-anchor=\"middle\" x=\"229.5\" y=\"-197.3\">(None, 1600)</text>\n",
       "<polyline fill=\"none\" points=\"185,-189.5 274,-189.5 \" stroke=\"#000000\"/>\n",
       "<text fill=\"#000000\" font-family=\"Times,serif\" font-size=\"14.00\" text-anchor=\"middle\" x=\"229.5\" y=\"-174.3\">(None, 50)</text>\n",
       "</g>\n",
       "<!-- 140500161646040&#45;&gt;140500161642680 -->\n",
       "<g class=\"edge\" id=\"edge4\">\n",
       "<title>140500161646040-&gt;140500161642680</title>\n",
       "<path d=\"M154.5,-249.3799C154.5,-241.1745 154.5,-231.7679 154.5,-222.8786\" fill=\"none\" stroke=\"#000000\"/>\n",
       "<polygon fill=\"#000000\" points=\"158.0001,-222.784 154.5,-212.784 151.0001,-222.784 158.0001,-222.784\" stroke=\"#000000\"/>\n",
       "</g>\n",
       "<!-- 140500161645032 -->\n",
       "<g class=\"node\" id=\"node6\">\n",
       "<title>140500161645032</title>\n",
       "<polygon fill=\"none\" points=\"26.5,-83.5 26.5,-129.5 282.5,-129.5 282.5,-83.5 26.5,-83.5\" stroke=\"#000000\"/>\n",
       "<text fill=\"#000000\" font-family=\"Times,serif\" font-size=\"14.00\" text-anchor=\"middle\" x=\"89\" y=\"-102.8\">Dropout-2: Dropout</text>\n",
       "<polyline fill=\"none\" points=\"151.5,-83.5 151.5,-129.5 \" stroke=\"#000000\"/>\n",
       "<text fill=\"#000000\" font-family=\"Times,serif\" font-size=\"14.00\" text-anchor=\"middle\" x=\"179\" y=\"-114.3\">input:</text>\n",
       "<polyline fill=\"none\" points=\"151.5,-106.5 206.5,-106.5 \" stroke=\"#000000\"/>\n",
       "<text fill=\"#000000\" font-family=\"Times,serif\" font-size=\"14.00\" text-anchor=\"middle\" x=\"179\" y=\"-91.3\">output:</text>\n",
       "<polyline fill=\"none\" points=\"206.5,-83.5 206.5,-129.5 \" stroke=\"#000000\"/>\n",
       "<text fill=\"#000000\" font-family=\"Times,serif\" font-size=\"14.00\" text-anchor=\"middle\" x=\"244.5\" y=\"-114.3\">(None, 50)</text>\n",
       "<polyline fill=\"none\" points=\"206.5,-106.5 282.5,-106.5 \" stroke=\"#000000\"/>\n",
       "<text fill=\"#000000\" font-family=\"Times,serif\" font-size=\"14.00\" text-anchor=\"middle\" x=\"244.5\" y=\"-91.3\">(None, 50)</text>\n",
       "</g>\n",
       "<!-- 140500161642680&#45;&gt;140500161645032 -->\n",
       "<g class=\"edge\" id=\"edge5\">\n",
       "<title>140500161642680-&gt;140500161645032</title>\n",
       "<path d=\"M154.5,-166.3799C154.5,-158.1745 154.5,-148.7679 154.5,-139.8786\" fill=\"none\" stroke=\"#000000\"/>\n",
       "<polygon fill=\"#000000\" points=\"158.0001,-139.784 154.5,-129.784 151.0001,-139.784 158.0001,-139.784\" stroke=\"#000000\"/>\n",
       "</g>\n",
       "<!-- 140500161739296 -->\n",
       "<g class=\"node\" id=\"node7\">\n",
       "<title>140500161739296</title>\n",
       "<polygon fill=\"none\" points=\"41.5,-.5 41.5,-46.5 267.5,-46.5 267.5,-.5 41.5,-.5\" stroke=\"#000000\"/>\n",
       "<text fill=\"#000000\" font-family=\"Times,serif\" font-size=\"14.00\" text-anchor=\"middle\" x=\"89\" y=\"-19.8\">dense2: Dense</text>\n",
       "<polyline fill=\"none\" points=\"136.5,-.5 136.5,-46.5 \" stroke=\"#000000\"/>\n",
       "<text fill=\"#000000\" font-family=\"Times,serif\" font-size=\"14.00\" text-anchor=\"middle\" x=\"164\" y=\"-31.3\">input:</text>\n",
       "<polyline fill=\"none\" points=\"136.5,-23.5 191.5,-23.5 \" stroke=\"#000000\"/>\n",
       "<text fill=\"#000000\" font-family=\"Times,serif\" font-size=\"14.00\" text-anchor=\"middle\" x=\"164\" y=\"-8.3\">output:</text>\n",
       "<polyline fill=\"none\" points=\"191.5,-.5 191.5,-46.5 \" stroke=\"#000000\"/>\n",
       "<text fill=\"#000000\" font-family=\"Times,serif\" font-size=\"14.00\" text-anchor=\"middle\" x=\"229.5\" y=\"-31.3\">(None, 50)</text>\n",
       "<polyline fill=\"none\" points=\"191.5,-23.5 267.5,-23.5 \" stroke=\"#000000\"/>\n",
       "<text fill=\"#000000\" font-family=\"Times,serif\" font-size=\"14.00\" text-anchor=\"middle\" x=\"229.5\" y=\"-8.3\">(None, 1)</text>\n",
       "</g>\n",
       "<!-- 140500161645032&#45;&gt;140500161739296 -->\n",
       "<g class=\"edge\" id=\"edge6\">\n",
       "<title>140500161645032-&gt;140500161739296</title>\n",
       "<path d=\"M154.5,-83.3799C154.5,-75.1745 154.5,-65.7679 154.5,-56.8786\" fill=\"none\" stroke=\"#000000\"/>\n",
       "<polygon fill=\"#000000\" points=\"158.0001,-56.784 154.5,-46.784 151.0001,-56.784 158.0001,-56.784\" stroke=\"#000000\"/>\n",
       "</g>\n",
       "</g>\n",
       "</svg>"
      ],
      "text/plain": [
       "<IPython.core.display.SVG object>"
      ]
     },
     "execution_count": 94,
     "metadata": {},
     "output_type": "execute_result"
    }
   ],
   "source": [
    "from IPython.display import SVG\n",
    "from keras.utils.vis_utils import model_to_dot\n",
    "SVG(model_to_dot(model, show_shapes=True, show_layer_names=True, rankdir='HB').create(prog='dot', format='svg'))"
   ]
  },
  {
   "cell_type": "code",
   "execution_count": 95,
   "metadata": {},
   "outputs": [
    {
     "name": "stdout",
     "output_type": "stream",
     "text": [
      "_________________________________________________________________\n",
      "Layer (type)                 Output Shape              Param #   \n",
      "=================================================================\n",
      "input (InputLayer)           (None, 100)               0         \n",
      "_________________________________________________________________\n",
      "Embedding (Embedding)        (None, 100, 16)           294752    \n",
      "_________________________________________________________________\n",
      "Flatten (Flatten)            (None, 1600)              0         \n",
      "_________________________________________________________________\n",
      "Dropout-1 (Dropout)          (None, 1600)              0         \n",
      "_________________________________________________________________\n",
      "dense1 (Dense)               (None, 50)                80050     \n",
      "_________________________________________________________________\n",
      "Dropout-2 (Dropout)          (None, 50)                0         \n",
      "_________________________________________________________________\n",
      "dense2 (Dense)               (None, 1)                 51        \n",
      "=================================================================\n",
      "Total params: 374,853\n",
      "Trainable params: 374,853\n",
      "Non-trainable params: 0\n",
      "_________________________________________________________________\n"
     ]
    }
   ],
   "source": [
    "model.summary()"
   ]
  },
  {
   "cell_type": "code",
   "execution_count": 96,
   "metadata": {},
   "outputs": [
    {
     "name": "stdout",
     "output_type": "stream",
     "text": [
      "Train on 24000 samples, validate on 6000 samples\n",
      "Epoch 1/5\n",
      "24000/24000 [==============================] - 15s 610us/step - loss: 0.1477 - acc: 0.9546 - val_loss: 0.1269 - val_acc: 0.9592\n",
      "Epoch 2/5\n",
      "24000/24000 [==============================] - 14s 593us/step - loss: 0.0814 - acc: 0.9715 - val_loss: 0.1379 - val_acc: 0.9580\n",
      "Epoch 3/5\n",
      "24000/24000 [==============================] - 14s 596us/step - loss: 0.0375 - acc: 0.9868 - val_loss: 0.1830 - val_acc: 0.9547\n",
      "Epoch 4/5\n",
      "24000/24000 [==============================] - 14s 600us/step - loss: 0.0156 - acc: 0.9951 - val_loss: 0.2301 - val_acc: 0.9540\n",
      "Epoch 5/5\n",
      "24000/24000 [==============================] - 14s 589us/step - loss: 0.0090 - acc: 0.9972 - val_loss: 0.2800 - val_acc: 0.9502\n"
     ]
    },
    {
     "data": {
      "text/plain": [
       "<keras.callbacks.History at 0x7fc8bdea1f60>"
      ]
     },
     "execution_count": 96,
     "metadata": {},
     "output_type": "execute_result"
    }
   ],
   "source": [
    "model.fit(x_train, y_train, validation_data=(x_test, y_test), epochs=5, batch_size=20)"
   ]
  },
  {
   "cell_type": "code",
   "execution_count": null,
   "metadata": {},
   "outputs": [],
   "source": []
  },
  {
   "cell_type": "code",
   "execution_count": null,
   "metadata": {},
   "outputs": [],
   "source": []
  },
  {
   "cell_type": "code",
   "execution_count": null,
   "metadata": {},
   "outputs": [],
   "source": []
  },
  {
   "cell_type": "code",
   "execution_count": 97,
   "metadata": {},
   "outputs": [
    {
     "ename": "TypeError",
     "evalue": "'Series' object cannot be interpreted as an integer",
     "output_type": "error",
     "traceback": [
      "\u001b[0;31m---------------------------------------------------------------------------\u001b[0m",
      "\u001b[0;31mTypeError\u001b[0m                                 Traceback (most recent call last)",
      "\u001b[0;32m<ipython-input-97-6e6c06194df0>\u001b[0m in \u001b[0;36m<module>\u001b[0;34m\u001b[0m\n\u001b[0;32m----> 1\u001b[0;31m \u001b[0mhistory\u001b[0m\u001b[0;34m=\u001b[0m\u001b[0mmodel\u001b[0m\u001b[0;34m.\u001b[0m\u001b[0mpredict\u001b[0m\u001b[0;34m(\u001b[0m\u001b[0mx_test\u001b[0m\u001b[0;34m,\u001b[0m\u001b[0my_test\u001b[0m\u001b[0;34m)\u001b[0m\u001b[0;34m\u001b[0m\u001b[0;34m\u001b[0m\u001b[0m\n\u001b[0m",
      "\u001b[0;32m/usr/local/lib/python3.6/dist-packages/keras/engine/training.py\u001b[0m in \u001b[0;36mpredict\u001b[0;34m(self, x, batch_size, verbose, steps)\u001b[0m\n\u001b[1;32m   1167\u001b[0m                                             \u001b[0mbatch_size\u001b[0m\u001b[0;34m=\u001b[0m\u001b[0mbatch_size\u001b[0m\u001b[0;34m,\u001b[0m\u001b[0;34m\u001b[0m\u001b[0;34m\u001b[0m\u001b[0m\n\u001b[1;32m   1168\u001b[0m                                             \u001b[0mverbose\u001b[0m\u001b[0;34m=\u001b[0m\u001b[0mverbose\u001b[0m\u001b[0;34m,\u001b[0m\u001b[0;34m\u001b[0m\u001b[0;34m\u001b[0m\u001b[0m\n\u001b[0;32m-> 1169\u001b[0;31m                                             steps=steps)\n\u001b[0m\u001b[1;32m   1170\u001b[0m \u001b[0;34m\u001b[0m\u001b[0m\n\u001b[1;32m   1171\u001b[0m     def train_on_batch(self, x, y,\n",
      "\u001b[0;32m/usr/local/lib/python3.6/dist-packages/keras/engine/training_arrays.py\u001b[0m in \u001b[0;36mpredict_loop\u001b[0;34m(model, f, ins, batch_size, verbose, steps)\u001b[0m\n\u001b[1;32m    280\u001b[0m         \u001b[0;31m# Sample-based predictions.\u001b[0m\u001b[0;34m\u001b[0m\u001b[0;34m\u001b[0m\u001b[0;34m\u001b[0m\u001b[0m\n\u001b[1;32m    281\u001b[0m         \u001b[0mouts\u001b[0m \u001b[0;34m=\u001b[0m \u001b[0;34m[\u001b[0m\u001b[0;34m]\u001b[0m\u001b[0;34m\u001b[0m\u001b[0;34m\u001b[0m\u001b[0m\n\u001b[0;32m--> 282\u001b[0;31m         \u001b[0mbatches\u001b[0m \u001b[0;34m=\u001b[0m \u001b[0mmake_batches\u001b[0m\u001b[0;34m(\u001b[0m\u001b[0mnum_samples\u001b[0m\u001b[0;34m,\u001b[0m \u001b[0mbatch_size\u001b[0m\u001b[0;34m)\u001b[0m\u001b[0;34m\u001b[0m\u001b[0;34m\u001b[0m\u001b[0m\n\u001b[0m\u001b[1;32m    283\u001b[0m         \u001b[0mindex_array\u001b[0m \u001b[0;34m=\u001b[0m \u001b[0mnp\u001b[0m\u001b[0;34m.\u001b[0m\u001b[0marange\u001b[0m\u001b[0;34m(\u001b[0m\u001b[0mnum_samples\u001b[0m\u001b[0;34m)\u001b[0m\u001b[0;34m\u001b[0m\u001b[0;34m\u001b[0m\u001b[0m\n\u001b[1;32m    284\u001b[0m         \u001b[0;32mfor\u001b[0m \u001b[0mbatch_index\u001b[0m\u001b[0;34m,\u001b[0m \u001b[0;34m(\u001b[0m\u001b[0mbatch_start\u001b[0m\u001b[0;34m,\u001b[0m \u001b[0mbatch_end\u001b[0m\u001b[0;34m)\u001b[0m \u001b[0;32min\u001b[0m \u001b[0menumerate\u001b[0m\u001b[0;34m(\u001b[0m\u001b[0mbatches\u001b[0m\u001b[0;34m)\u001b[0m\u001b[0;34m:\u001b[0m\u001b[0;34m\u001b[0m\u001b[0;34m\u001b[0m\u001b[0m\n",
      "\u001b[0;32m/usr/local/lib/python3.6/dist-packages/keras/engine/training_utils.py\u001b[0m in \u001b[0;36mmake_batches\u001b[0;34m(size, batch_size)\u001b[0m\n\u001b[1;32m    369\u001b[0m     \u001b[0mnum_batches\u001b[0m \u001b[0;34m=\u001b[0m \u001b[0;34m(\u001b[0m\u001b[0msize\u001b[0m \u001b[0;34m+\u001b[0m \u001b[0mbatch_size\u001b[0m \u001b[0;34m-\u001b[0m \u001b[0;36m1\u001b[0m\u001b[0;34m)\u001b[0m \u001b[0;34m//\u001b[0m \u001b[0mbatch_size\u001b[0m  \u001b[0;31m# round up\u001b[0m\u001b[0;34m\u001b[0m\u001b[0;34m\u001b[0m\u001b[0m\n\u001b[1;32m    370\u001b[0m     return [(i * batch_size, min(size, (i + 1) * batch_size))\n\u001b[0;32m--> 371\u001b[0;31m             for i in range(num_batches)]\n\u001b[0m\u001b[1;32m    372\u001b[0m \u001b[0;34m\u001b[0m\u001b[0m\n\u001b[1;32m    373\u001b[0m \u001b[0;34m\u001b[0m\u001b[0m\n",
      "\u001b[0;31mTypeError\u001b[0m: 'Series' object cannot be interpreted as an integer"
     ]
    }
   ],
   "source": [
    "model.predict(x_test,y_test)"
   ]
  },
  {
   "cell_type": "code",
   "execution_count": 92,
   "metadata": {},
   "outputs": [
    {
     "ename": "KeyError",
     "evalue": "'accuracy'",
     "output_type": "error",
     "traceback": [
      "\u001b[0;31m---------------------------------------------------------------------------\u001b[0m",
      "\u001b[0;31mKeyError\u001b[0m                                  Traceback (most recent call last)",
      "\u001b[0;32m<ipython-input-92-f74eefc08258>\u001b[0m in \u001b[0;36m<module>\u001b[0;34m\u001b[0m\n\u001b[0;32m----> 1\u001b[0;31m \u001b[0mpd\u001b[0m\u001b[0;34m.\u001b[0m\u001b[0mSeries\u001b[0m\u001b[0;34m(\u001b[0m\u001b[0mhistory\u001b[0m\u001b[0;34m.\u001b[0m\u001b[0mhistory\u001b[0m\u001b[0;34m[\u001b[0m\u001b[0;34m'accuracy'\u001b[0m\u001b[0;34m]\u001b[0m\u001b[0;34m)\u001b[0m\u001b[0;34m.\u001b[0m\u001b[0mplot\u001b[0m\u001b[0;34m(\u001b[0m\u001b[0mlogy\u001b[0m\u001b[0;34m=\u001b[0m\u001b[0;32mTrue\u001b[0m\u001b[0;34m)\u001b[0m\u001b[0;34m\u001b[0m\u001b[0;34m\u001b[0m\u001b[0m\n\u001b[0m\u001b[1;32m      2\u001b[0m \u001b[0mplt\u001b[0m\u001b[0;34m.\u001b[0m\u001b[0mxlabel\u001b[0m\u001b[0;34m(\u001b[0m\u001b[0;34m\"Epoch\"\u001b[0m\u001b[0;34m)\u001b[0m\u001b[0;34m\u001b[0m\u001b[0;34m\u001b[0m\u001b[0m\n\u001b[1;32m      3\u001b[0m \u001b[0mplt\u001b[0m\u001b[0;34m.\u001b[0m\u001b[0mylabel\u001b[0m\u001b[0;34m(\u001b[0m\u001b[0;34m\"Train Error\"\u001b[0m\u001b[0;34m)\u001b[0m\u001b[0;34m\u001b[0m\u001b[0;34m\u001b[0m\u001b[0m\n",
      "\u001b[0;31mKeyError\u001b[0m: 'accuracy'"
     ]
    }
   ],
   "source": [
    "pd.Series(history.history['accuracy']).plot(logy=True)\n",
    "plt.xlabel(\"Epoch\")\n",
    "plt.ylabel(\"Train Error\")"
   ]
  },
  {
   "cell_type": "code",
   "execution_count": null,
   "metadata": {},
   "outputs": [],
   "source": []
  },
  {
   "cell_type": "code",
   "execution_count": 50,
   "metadata": {},
   "outputs": [],
   "source": [
    "'''\n",
    "model = Sequential([\n",
    "    Embedding(vocab_size, 16, input_length=max_length,name=\"embedding\"), \n",
    "    Flatten(name=\"flatten\"),\n",
    "    Dropout(0.2,name=\"drop_out1\"),\n",
    "    Dense(50, activation='relu',name=\"dense1\"),\n",
    "    Dropout(0,2,name=\"drop_out2\"),\n",
    "    Dense(1, activation='sigmoid',name=\"dense2\")])\n",
    "'''"
   ]
  },
  {
   "cell_type": "code",
   "execution_count": 87,
   "metadata": {},
   "outputs": [
    {
     "data": {
      "text/plain": [
       "\"\\nmodel.compile( 'adam','binary_crossentropy', metrics=['accuracy'])\\nmodel.summary()\\n\""
      ]
     },
     "execution_count": 87,
     "metadata": {},
     "output_type": "execute_result"
    }
   ],
   "source": [
    "'''\n",
    "model.compile( 'adam','binary_crossentropy', metrics=['accuracy'])\n",
    "model.summary()\n",
    "'''"
   ]
  },
  {
   "cell_type": "code",
   "execution_count": null,
   "metadata": {},
   "outputs": [],
   "source": []
  },
  {
   "cell_type": "code",
   "execution_count": 69,
   "metadata": {},
   "outputs": [
    {
     "name": "stdout",
     "output_type": "stream",
     "text": [
      "Train on 24000 samples, validate on 6000 samples\n",
      "Epoch 1/5\n",
      "24000/24000 [==============================] - 15s 607us/step - loss: 0.1447 - acc: 0.9561 - val_loss: 0.1230 - val_acc: 0.9583\n",
      "Epoch 2/5\n",
      "24000/24000 [==============================] - 14s 585us/step - loss: 0.0830 - acc: 0.9705 - val_loss: 0.1340 - val_acc: 0.9590\n",
      "Epoch 3/5\n",
      "24000/24000 [==============================] - 14s 581us/step - loss: 0.0396 - acc: 0.9862 - val_loss: 0.1799 - val_acc: 0.9567\n",
      "Epoch 4/5\n",
      "24000/24000 [==============================] - 14s 588us/step - loss: 0.0178 - acc: 0.9944 - val_loss: 0.2211 - val_acc: 0.9567\n",
      "Epoch 5/5\n",
      "24000/24000 [==============================] - 14s 593us/step - loss: 0.0095 - acc: 0.9974 - val_loss: 0.2690 - val_acc: 0.9573\n"
     ]
    },
    {
     "data": {
      "text/plain": [
       "<keras.callbacks.History at 0x7fc8c4dbaf60>"
      ]
     },
     "execution_count": 69,
     "metadata": {},
     "output_type": "execute_result"
    }
   ],
   "source": [
    "model.fit(x_train, y_train, validation_data=(x_test, y_test), epochs=5, batch_size=20)"
   ]
  },
  {
   "cell_type": "code",
   "execution_count": 70,
   "metadata": {},
   "outputs": [],
   "source": [
    "import itertools\n",
    "def plot_confusion_matrix(cm, \n",
    "                          classes,\n",
    "                          normalize=False,\n",
    "                          title='Confusion matrix',\n",
    "                          cmap=plt.cm.Blues):\n",
    "    \"\"\"\n",
    "    This function prints and plots the confusion matrix.\n",
    "    Normalization can be applied by setting `normalize=True`.\n",
    "    \"\"\"\n",
    "    \n",
    "    \n",
    "    if normalize:\n",
    "        cm = cm.astype('float') / cm.sum(axis=1)[:, np.newaxis]\n",
    "        print(\"Normalized confusion matrix\")\n",
    "    else:\n",
    "        print('Confusion matrix, without normalization')\n",
    "\n",
    "    #print(cm)\n",
    "\n",
    "    plt.imshow(cm, interpolation='nearest', cmap=cmap)\n",
    "    plt.title(title)\n",
    "    plt.colorbar()\n",
    "    tick_marks = np.arange(len(classes))\n",
    "    plt.xticks(tick_marks, classes, rotation=45)\n",
    "    plt.yticks(tick_marks, classes)\n",
    "\n",
    "    fmt = '.2f' if normalize else 'd'\n",
    "    thresh = cm.max() / 2.\n",
    "    for i, j in itertools.product(range(cm.shape[0]), range(cm.shape[1])):\n",
    "        plt.text(j, i, format(cm[i, j], fmt),\n",
    "                 horizontalalignment=\"center\",\n",
    "                 color=\"white\" if cm[i, j] > thresh else \"black\")\n",
    "\n",
    "    plt.tight_layout()\n",
    "    plt.ylabel('True label')\n",
    "    plt.xlabel('Predicted label')\n",
    "    \n",
    "    np.set_printoptions(precision=2)\n",
    "    plt.figure()\n",
    "    plt.show()"
   ]
  },
  {
   "cell_type": "code",
   "execution_count": 79,
   "metadata": {},
   "outputs": [
    {
     "ename": "AttributeError",
     "evalue": "'Model' object has no attribute 'predict_classes'",
     "output_type": "error",
     "traceback": [
      "\u001b[0;31m---------------------------------------------------------------------------\u001b[0m",
      "\u001b[0;31mAttributeError\u001b[0m                            Traceback (most recent call last)",
      "\u001b[0;32m<ipython-input-79-b7c81189aa93>\u001b[0m in \u001b[0;36m<module>\u001b[0;34m\u001b[0m\n\u001b[0;32m----> 1\u001b[0;31m \u001b[0my_pred\u001b[0m \u001b[0;34m=\u001b[0m \u001b[0mmodel\u001b[0m\u001b[0;34m.\u001b[0m\u001b[0mpredict_classes\u001b[0m\u001b[0;34m(\u001b[0m\u001b[0mx_test\u001b[0m\u001b[0;34m)\u001b[0m\u001b[0;34m\u001b[0m\u001b[0;34m\u001b[0m\u001b[0m\n\u001b[0m\u001b[1;32m      2\u001b[0m \u001b[0mcm\u001b[0m \u001b[0;34m=\u001b[0m \u001b[0mconfusion_matrix\u001b[0m\u001b[0;34m(\u001b[0m\u001b[0my_test\u001b[0m\u001b[0;34m,\u001b[0m \u001b[0my_pred\u001b[0m\u001b[0;34m)\u001b[0m\u001b[0;34m\u001b[0m\u001b[0;34m\u001b[0m\u001b[0m\n\u001b[1;32m      3\u001b[0m plot_confusion_matrix(cm, \n\u001b[1;32m      4\u001b[0m                       \u001b[0mclasses\u001b[0m\u001b[0;34m=\u001b[0m\u001b[0;34m[\u001b[0m\u001b[0;34m'0'\u001b[0m\u001b[0;34m,\u001b[0m \u001b[0;34m'1'\u001b[0m\u001b[0;34m]\u001b[0m\u001b[0;34m,\u001b[0m\u001b[0;34m\u001b[0m\u001b[0;34m\u001b[0m\u001b[0m\n\u001b[1;32m      5\u001b[0m                       \u001b[0mnormalize\u001b[0m\u001b[0;34m=\u001b[0m\u001b[0;32mFalse\u001b[0m\u001b[0;34m,\u001b[0m\u001b[0;34m\u001b[0m\u001b[0;34m\u001b[0m\u001b[0m\n",
      "\u001b[0;31mAttributeError\u001b[0m: 'Model' object has no attribute 'predict_classes'"
     ]
    }
   ],
   "source": [
    "y_pred = model.predict_classes(x_test)\n",
    "cm = confusion_matrix(y_test, y_pred)\n",
    "plot_confusion_matrix(cm, \n",
    "                      classes=['0', '1'],\n",
    "                      normalize=False,\n",
    "                      title='confusion matrix')"
   ]
  },
  {
   "cell_type": "code",
   "execution_count": null,
   "metadata": {},
   "outputs": [],
   "source": [
    "y_hat = np.round(model.predict(x_test),0)\n",
    "y_true=test.rating"
   ]
  },
  {
   "cell_type": "code",
   "execution_count": 91,
   "metadata": {},
   "outputs": [
    {
     "name": "stderr",
     "output_type": "stream",
     "text": [
      "/home/taibk/.local/lib/python3.6/site-packages/ipykernel_launcher.py:2: UserWarning: The `dropout` argument is no longer support in `Embedding`. You can apply a `keras.layers.SpatialDropout1D` layer right after the `Embedding` layer to get the same behavior.\n",
      "  \n"
     ]
    },
    {
     "name": "stdout",
     "output_type": "stream",
     "text": [
      "_________________________________________________________________\n",
      "Layer (type)                 Output Shape              Param #   \n",
      "=================================================================\n",
      "embedding_3 (Embedding)      (None, 100, 32)           370336    \n",
      "_________________________________________________________________\n",
      "lstm_1 (LSTM)                (None, 50)                16600     \n",
      "_________________________________________________________________\n",
      "dense_5 (Dense)              (None, 1)                 51        \n",
      "=================================================================\n",
      "Total params: 386,987\n",
      "Trainable params: 386,987\n",
      "Non-trainable params: 0\n",
      "_________________________________________________________________\n"
     ]
    }
   ],
   "source": [
    "model = Sequential([\n",
    "    Embedding(vocab_size, 32, input_length=max_length, mask_zero=True, dropout=0.2),\n",
    "    LSTM(50), \n",
    "    Dense(1, activation='sigmoid')])\n",
    "model.compile(loss='binary_crossentropy', optimizer='adam', metrics=['accuracy'])\n",
    "model.summary()"
   ]
  },
  {
   "cell_type": "code",
   "execution_count": 93,
   "metadata": {},
   "outputs": [
    {
     "name": "stdout",
     "output_type": "stream",
     "text": [
      "Train on 8000 samples, validate on 2000 samples\n",
      "Epoch 1/2\n",
      "8000/8000 [==============================] - 36s 5ms/step - loss: 0.0892 - acc: 0.9684 - val_loss: 0.1387 - val_acc: 0.9640\n",
      "Epoch 2/2\n",
      "8000/8000 [==============================] - 40s 5ms/step - loss: 0.0655 - acc: 0.9782 - val_loss: 0.1434 - val_acc: 0.9655\n"
     ]
    },
    {
     "data": {
      "text/plain": [
       "<keras.callbacks.History at 0x7fe64ab2fcf8>"
      ]
     },
     "execution_count": 93,
     "metadata": {},
     "output_type": "execute_result"
    }
   ],
   "source": [
    "model.fit(x_train, y_train, validation_data=(x_test, y_test), epochs=2, batch_size=20)"
   ]
  },
  {
   "cell_type": "code",
   "execution_count": 94,
   "metadata": {},
   "outputs": [
    {
     "name": "stdout",
     "output_type": "stream",
     "text": [
      "Confusion matrix, without normalization\n"
     ]
    },
    {
     "data": {
      "image/png": "[encoded data removed]",
      "text/plain": [
       "<Figure size 432x288 with 2 Axes>"
      ]
     },
     "metadata": {
      "needs_background": "light"
     },
     "output_type": "display_data"
    },
    {
     "data": {
      "text/plain": [
       "<Figure size 432x288 with 0 Axes>"
      ]
     },
     "metadata": {},
     "output_type": "display_data"
    }
   ],
   "source": [
    "y_pred = model.predict_classes(x_test)\n",
    "cm = confusion_matrix(y_test, y_pred)\n",
    "plot_confusion_matrix(cm, \n",
    "                      classes=['0', '1'],\n",
    "                      normalize=False,\n",
    "                      title='confusion matrix')"
   ]
  },
  {
   "cell_type": "code",
   "execution_count": null,
   "metadata": {},
   "outputs": [],
   "source": []
  },
  {
   "cell_type": "code",
   "execution_count": null,
   "metadata": {},
   "outputs": [],
   "source": []
  },
  {
   "cell_type": "code",
   "execution_count": null,
   "metadata": {},
   "outputs": [],
   "source": []
  },
  {
   "cell_type": "code",
   "execution_count": null,
   "metadata": {},
   "outputs": [],
   "source": []
  }
 ],
 "metadata": {
  "kernelspec": {
   "display_name": "Python 3",
   "language": "python",
   "name": "python3"
  },
  "language_info": {
   "codemirror_mode": {
    "name": "ipython",
    "version": 3
   },
   "file_extension": ".py",
   "mimetype": "text/x-python",
   "name": "python",
   "nbconvert_exporter": "python",
   "pygments_lexer": "ipython3",
   "version": "3.6.7"
  }
 },
 "nbformat": 4,
 "nbformat_minor": 2
}
